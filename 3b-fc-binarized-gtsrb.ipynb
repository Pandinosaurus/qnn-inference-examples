{
 "cells": [
  {
   "cell_type": "markdown",
   "metadata": {},
   "source": [
    "# A Fully-Connected Binarized Network on GTSRB"
   ]
  },
  {
   "cell_type": "code",
   "execution_count": 11,
   "metadata": {},
   "outputs": [
    {
     "data": {
      "image/png": "[encoded data removed]",
      "text/plain": [
       "<PIL.Image.Image image mode=RGB size=32x32 at 0x7F4B348A8190>"
      ]
     },
     "metadata": {},
     "output_type": "display_data"
    },
    {
     "data": {
      "image/png": "[encoded data removed]",
      "text/plain": [
       "<PIL.Image.Image image mode=RGB size=32x32 at 0x7F4B3767EB50>"
      ]
     },
     "metadata": {},
     "output_type": "display_data"
    },
    {
     "data": {
      "image/png": "[encoded data removed]",
      "text/plain": [
       "<PIL.Image.Image image mode=RGB size=32x32 at 0x7F4B45F7EF50>"
      ]
     },
     "metadata": {},
     "output_type": "display_data"
    },
    {
     "data": {
      "image/png": "[encoded data removed]",
      "text/plain": [
       "<PIL.Image.Image image mode=RGB size=32x32 at 0x7F4B45F7EF50>"
      ]
     },
     "metadata": {},
     "output_type": "display_data"
    },
    {
     "name": "stdout",
     "output_type": "stream",
     "text": [
      "(3072,)\n"
     ]
    }
   ],
   "source": [
    "from PIL import Image\n",
    "import matplotlib.pyplot as plt\n",
    "import numpy as np\n",
    "from IPython.display import display\n",
    "\n",
    "# define a small utility function to first display, then prepare the\n",
    "# images for classification\n",
    "def prepare_gtsrb(img):\n",
    "    # make sure the image is the size expected by the network\n",
    "    img = img.resize((32, 32))\n",
    "    display(img)\n",
    "    # convert to numpy array\n",
    "    img = np.asarray(img)\n",
    "    # we need the data layout to be (channels, rows, columns)\n",
    "    # but it comes in (rows, columns, channels) format, so we\n",
    "    # need to transpose the axes:\n",
    "    img = img.transpose((2, 0, 1))\n",
    "    # finally, our network is trained with BGR instead of RGB images,\n",
    "    # so we need to invert the order of channels in the channel axis:\n",
    "    img = img[::-1, :, :]\n",
    "    img = img.flatten()\n",
    "    return img\n",
    "\n",
    "# load test images and prepare them\n",
    "img_50 = prepare_gtsrb(Image.open(\"gtsrb_images/50.jpg\"))\n",
    "img_stop = prepare_gtsrb(Image.open(\"gtsrb_images/stop.jpg\"))\n",
    "img_left = prepare_gtsrb(Image.open(\"gtsrb_images/left.jpg\"))\n",
    "img_right = prepare_gtsrb(Image.open(\"gtsrb_images/right.jpg\"))\n",
    "\n",
    "# print the shape of one of the images to make sure it's correct\n",
    "print(img_50.shape)"
   ]
  },
  {
   "cell_type": "code",
   "execution_count": 25,
   "metadata": {},
   "outputs": [
    {
     "data": {
      "text/plain": [
       "[<QNN.layers.QNNFullyConnectedLayer at 0x7f4b37664310>,\n",
       " <QNN.layers.QNNBipolarThresholdingLayer at 0x7f4b348a8490>,\n",
       " <QNN.layers.QNNFullyConnectedLayer at 0x7f4b348a8d10>,\n",
       " <QNN.layers.QNNScaleShiftLayer at 0x7f4b348a8650>,\n",
       " <QNN.layers.QNNSoftmaxLayer at 0x7f4b348a83d0>]"
      ]
     },
     "execution_count": 25,
     "metadata": {},
     "output_type": "execute_result"
    }
   ],
   "source": [
    "from QNN.layers import *\n",
    "import pickle\n",
    "\n",
    "# load the QNN\n",
    "qnn = pickle.load(open(\"gtsrb-w1a1-fc.pickle\", \"rb\"))\n",
    "qnn"
   ]
  },
  {
   "cell_type": "code",
   "execution_count": 30,
   "metadata": {},
   "outputs": [
    {
     "data": {
      "text/plain": [
       "array([[ 1,  1, -1, ..., -1,  1, -1],\n",
       "       [ 1,  1,  1, ...,  1,  1,  1],\n",
       "       [ 1,  1,  1, ...,  1, -1,  1],\n",
       "       ..., \n",
       "       [ 1,  1, -1, ..., -1, -1,  1],\n",
       "       [-1, -1, -1, ..., -1, -1, -1],\n",
       "       [ 1,  1, -1, ...,  1,  1,  1]], dtype=int8)"
      ]
     },
     "execution_count": 30,
     "metadata": {},
     "output_type": "execute_result"
    }
   ],
   "source": [
    "qnn[0].W"
   ]
  },
  {
   "cell_type": "code",
   "execution_count": 31,
   "metadata": {},
   "outputs": [
    {
     "data": {
      "text/plain": [
       "array([[  184,   458,   -59,   513,   108,    62,  -472,   391,   202,\n",
       "          -89,   675,   208,   -89,   137,   274,  -220,   516,  -241,\n",
       "          385,   570,  -731,  -488,   108,    22,  -672,   -12,    45,\n",
       "          170,  -209,   363,   102,   117,    86,   227,  -552,   508,\n",
       "         -442,   227,  -392,   213,   215,   225,  -256, -1207,   209,\n",
       "          -82,    42,   481,   183,   319,   296,   541,  -105,    58,\n",
       "         -663,  -333,   614,   572,   592,   -35,   238,    66,    95,\n",
       "         -279,  -279,   251,  -384,   386,  -834,  -103,  -382,   333,\n",
       "         -156,  -447,   181,   -76,  -616,   690,  -290,  -163,    61,\n",
       "          -36,   373,  -457,    91,   489,  -527,   197,   -72,  -531,\n",
       "          132,   282,  -499,   173,   248,     2,   167,   394,   301,\n",
       "          253,   732,  -325,  -670,   767,   234,   -84,  -322,   155,\n",
       "           35,  -179,   353,  -187,    29,   367,  -163,   164,   143,\n",
       "         -593,   926,    52,   251,    47,     1,   756,   456,  -291,\n",
       "          216,   294,  -846,  -147,   466,   563,   359,   -67,  -463,\n",
       "          255,  1887,    91,  -170,   526,   -67,   288,   685,   225,\n",
       "          736,    38,   472,   583,   393,  -140,  -112,   457,   378,\n",
       "          320,   -71,   895,  -694,  -225,    78,   195,   200,   243,\n",
       "          328,    44,   117,   343,  -936,    27,  -154, -1028,   161,\n",
       "         1177,  -408,   647,   446,  -480,  1135,   831,  -386,  -317,\n",
       "          -94,   439,   -87,     4,   348,   826,   355,   234,  -260,\n",
       "          247,    81,   226,   311,   166,   724,  -425,   624,  -681,\n",
       "           66,  -102,   479,   176,  -786,  -335,   631,  -498,   349,\n",
       "           68,   148,  -101,  -319,  -602,   238,    84,    95,   -88,\n",
       "          208,    55,    -3,   855,  -244,   187,   319,   987,   243,\n",
       "         -352,   624,  -177,  -346,  -165,   -62,    47,  -569,   120,\n",
       "         -652,   843,  -237,   -71,   392,  -365,  -545,   425,   283,\n",
       "          -50,  1068,  -145,     2,   -28,   540,  -180,     2,  -153,\n",
       "         -341,   298,  -148,   228]], dtype=int16)"
      ]
     },
     "execution_count": 31,
     "metadata": {},
     "output_type": "execute_result"
    }
   ],
   "source": [
    "qnn[1].thresholds"
   ]
  },
  {
   "cell_type": "code",
   "execution_count": 32,
   "metadata": {},
   "outputs": [
    {
     "data": {
      "text/plain": [
       "array([[ 1, -1,  1, ..., -1,  1,  1],\n",
       "       [ 1, -1,  1, ...,  1, -1,  1],\n",
       "       [ 1, -1, -1, ...,  1,  1, -1],\n",
       "       ..., \n",
       "       [-1,  1,  1, ..., -1, -1,  1],\n",
       "       [ 1,  1,  1, ...,  1, -1, -1],\n",
       "       [-1,  1,  1, ..., -1, -1,  1]], dtype=int8)"
      ]
     },
     "execution_count": 32,
     "metadata": {},
     "output_type": "execute_result"
    }
   ],
   "source": [
    "qnn[2].W"
   ]
  },
  {
   "cell_type": "code",
   "execution_count": 27,
   "metadata": {},
   "outputs": [
    {
     "name": "stdout",
     "output_type": "stream",
     "text": [
      "The QNN predicts this is a 50 Km/h sign with 99.969233 percent probability\n",
      "The QNN predicts this is a Stop sign with 83.005663 percent probability\n",
      "The QNN predicts this is a Turn left ahead sign with 99.986690 percent probability\n",
      "The QNN predicts this is a Turn right ahead sign with 99.941609 percent probability\n"
     ]
    }
   ],
   "source": [
    "gtsrb_classes = ['20 Km/h', '30 Km/h', '50 Km/h', '60 Km/h', '70 Km/h', '80 Km/h', 'End 80 Km/h', '100 Km/h', '120 Km/h', 'No overtaking', 'No overtaking for large trucks', 'Priority crossroad', 'Priority road', 'Give way', 'Stop', 'No vehicles', 'Prohibited for vehicles with a permitted gross weight over 3.5t including their trailers, and for tractors except passenger cars and buses', 'No entry for vehicular traffic', 'Danger Ahead', 'Bend to left', 'Bend to right', 'Double bend (first to left)', 'Uneven road', 'Road slippery when wet or dirty', 'Road narrows (right)', 'Road works', 'Traffic signals', 'Pedestrians in road ahead', 'Children crossing ahead', 'Bicycles prohibited', 'Risk of snow or ice', 'Wild animals', 'End of all speed and overtaking restrictions', 'Turn right ahead', 'Turn left ahead', 'Ahead only', 'Ahead or right only', 'Ahead or left only', 'Pass by on right', 'Pass by on left', 'Roundabout', 'End of no-overtaking zone', 'End of no-overtaking zone for vehicles with a permitted gross weight over 3.5t including their trailers, and for tractors except passenger cars and buses']\n",
    "\n",
    "def gtsrb_predict(img):\n",
    "    # get the predictions array\n",
    "    res = predict(qnn, img)\n",
    "    # return the index of the largest prediction, then use the\n",
    "    # classes array to map to a human-readable string\n",
    "    winner_ind = np.argmax(res)\n",
    "    winner_class = gtsrb_classes[winner_ind]\n",
    "    # the sum of the output values add up to 1 due to softmax,\n",
    "    # so we can interpret them as probabilities\n",
    "    winner_prob = 100 * res[winner_ind]\n",
    "    print(\"The QNN predicts this is a %s sign with %f percent probability\" % (winner_class, winner_prob))\n",
    "\n",
    "gtsrb_predict(img_50)\n",
    "gtsrb_predict(img_stop)\n",
    "gtsrb_predict(img_left)\n",
    "gtsrb_predict(img_right)"
   ]
  },
  {
   "cell_type": "code",
   "execution_count": null,
   "metadata": {
    "collapsed": true
   },
   "outputs": [],
   "source": []
  }
 ],
 "metadata": {
  "kernelspec": {
   "display_name": "Python 2",
   "language": "python",
   "name": "python2"
  },
  "language_info": {
   "codemirror_mode": {
    "name": "ipython",
    "version": 2
   },
   "file_extension": ".py",
   "mimetype": "text/x-python",
   "name": "python",
   "nbconvert_exporter": "python",
   "pygments_lexer": "ipython2",
   "version": "2.7.12"
  }
 },
 "nbformat": 4,
 "nbformat_minor": 2
}
