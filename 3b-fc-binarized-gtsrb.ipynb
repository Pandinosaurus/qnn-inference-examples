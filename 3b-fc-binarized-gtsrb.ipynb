{
 "cells": [
  {
   "cell_type": "markdown",
   "metadata": {},
   "source": [
    "# A Fully-Connected Binarized Network on GTSRB"
   ]
  },
  {
   "cell_type": "code",
   "execution_count": 8,
   "metadata": {},
   "outputs": [
    {
     "data": {
      "text/plain": [
       "<PIL.Image.Image image mode=RGB size=32x32 at 0x7F19E29035A8>"
      ]
     },
     "metadata": {},
     "output_type": "display_data"
    },
    {
     "data": {
      "text/plain": [
       "<PIL.Image.Image image mode=RGB size=32x32 at 0x7F19E29035A8>"
      ]
     },
     "metadata": {},
     "output_type": "display_data"
    },
    {
     "data": {
      "text/plain": [
       "<PIL.Image.Image image mode=RGB size=32x32 at 0x7F19E29035A8>"
      ]
     },
     "metadata": {},
     "output_type": "display_data"
    },
    {
     "data": {
      "text/plain": [
       "<PIL.Image.Image image mode=RGB size=32x32 at 0x7F19E29035A8>"
      ]
     },
     "metadata": {},
     "output_type": "display_data"
    },
    {
     "name": "stdout",
     "output_type": "stream",
     "text": [
      "(3072,)\n"
     ]
    }
   ],
   "source": [
    "from PIL import Image\n",
    "import matplotlib.pyplot as plt\n",
    "import numpy as np\n",
    "from IPython.display import display\n",
    "\n",
    "# define a small utility function to first display, then prepare the\n",
    "# images for classification\n",
    "def prepare_gtsrb(img):\n",
    "    # make sure the image is the size expected by the network\n",
    "    img = img.resize((32, 32))\n",
    "    display(img)\n",
    "    # convert to numpy array\n",
    "    img = np.asarray(img)\n",
    "    # we need the data layout to be (channels, rows, columns)\n",
    "    # but it comes in (rows, columns, channels) format, so we\n",
    "    # need to transpose the axes:\n",
    "    img = img.transpose((2, 0, 1))\n",
    "    # finally, our network is trained with BGR instead of RGB images,\n",
    "    # so we need to invert the order of channels in the channel axis:\n",
    "    img = img[::-1, :, :]\n",
    "    img = img.flatten()\n",
    "    return img\n",
    "\n",
    "# load test images and prepare them\n",
    "img_50 = prepare_gtsrb(Image.open(\"gtsrb_images/50.jpg\"))\n",
    "img_stop = prepare_gtsrb(Image.open(\"gtsrb_images/stop.jpg\"))\n",
    "img_left = prepare_gtsrb(Image.open(\"gtsrb_images/left.jpg\"))\n",
    "img_right = prepare_gtsrb(Image.open(\"gtsrb_images/right.jpg\"))\n",
    "\n",
    "# print the shape of one of the images to make sure it's correct\n",
    "print(img_50.shape)"
   ]
  },
  {
   "cell_type": "code",
   "execution_count": 9,
   "metadata": {},
   "outputs": [
    {
     "data": {
      "text/plain": [
       "[<QNN.layers.QNNFullyConnectedLayer at 0x7f19e291a9d0>,\n",
       " <QNN.layers.QNNBipolarThresholdingLayer at 0x7f19e29260d0>,\n",
       " <QNN.layers.QNNFullyConnectedLayer at 0x7f19e2926190>,\n",
       " <QNN.layers.QNNScaleShiftLayer at 0x7f19e29261d0>,\n",
       " <QNN.layers.QNNSoftmaxLayer at 0x7f19e2926250>]"
      ]
     },
     "execution_count": 9,
     "metadata": {},
     "output_type": "execute_result"
    }
   ],
   "source": [
    "from QNN.layers import *\n",
    "import pickle\n",
    "\n",
    "# load the QNN\n",
    "qnn = pickle.load(open(\"gtsrb-w1a1-fc.pickle\", \"rb\"))\n",
    "qnn"
   ]
  },
  {
   "cell_type": "code",
   "execution_count": 10,
   "metadata": {},
   "outputs": [
    {
     "name": "stdout",
     "output_type": "stream",
     "text": [
      "The QNN predicts this is a 50 Km/h sign with 99.969233 percent probability\n",
      "The QNN predicts this is a Stop sign with 83.005663 percent probability\n",
      "The QNN predicts this is a Turn left ahead sign with 99.986690 percent probability\n",
      "The QNN predicts this is a Turn right ahead sign with 99.941609 percent probability\n"
     ]
    }
   ],
   "source": [
    "gtsrb_classes = ['20 Km/h', '30 Km/h', '50 Km/h', '60 Km/h', '70 Km/h', '80 Km/h', 'End 80 Km/h', '100 Km/h', '120 Km/h', 'No overtaking', 'No overtaking for large trucks', 'Priority crossroad', 'Priority road', 'Give way', 'Stop', 'No vehicles', 'Prohibited for vehicles with a permitted gross weight over 3.5t including their trailers, and for tractors except passenger cars and buses', 'No entry for vehicular traffic', 'Danger Ahead', 'Bend to left', 'Bend to right', 'Double bend (first to left)', 'Uneven road', 'Road slippery when wet or dirty', 'Road narrows (right)', 'Road works', 'Traffic signals', 'Pedestrians in road ahead', 'Children crossing ahead', 'Bicycles prohibited', 'Risk of snow or ice', 'Wild animals', 'End of all speed and overtaking restrictions', 'Turn right ahead', 'Turn left ahead', 'Ahead only', 'Ahead or right only', 'Ahead or left only', 'Pass by on right', 'Pass by on left', 'Roundabout', 'End of no-overtaking zone', 'End of no-overtaking zone for vehicles with a permitted gross weight over 3.5t including their trailers, and for tractors except passenger cars and buses']\n",
    "\n",
    "def gtsrb_predict(img):\n",
    "    # get the predictions array\n",
    "    res = predict(qnn, img)\n",
    "    # return the index of the largest prediction, then use the\n",
    "    # classes array to map to a human-readable string\n",
    "    winner_ind = np.argmax(res)\n",
    "    winner_class = gtsrb_classes[winner_ind]\n",
    "    # the sum of the output values add up to 1 due to softmax,\n",
    "    # so we can interpret them as probabilities\n",
    "    winner_prob = 100 * res[winner_ind]\n",
    "    print(\"The QNN predicts this is a %s sign with %f percent probability\" % (winner_class, winner_prob))\n",
    "\n",
    "gtsrb_predict(img_50)\n",
    "gtsrb_predict(img_stop)\n",
    "gtsrb_predict(img_left)\n",
    "gtsrb_predict(img_right)"
   ]
  },
  {
   "cell_type": "code",
   "execution_count": null,
   "metadata": {
    "collapsed": true
   },
   "outputs": [],
   "source": []
  }
 ],
 "metadata": {
  "kernelspec": {
   "display_name": "Python 2",
   "language": "python",
   "name": "python2"
  },
  "language_info": {
   "codemirror_mode": {
    "name": "ipython",
    "version": 2
   },
   "file_extension": ".py",
   "mimetype": "text/x-python",
   "name": "python",
   "nbconvert_exporter": "python",
   "pygments_lexer": "ipython2",
   "version": "2.7.6"
  }
 },
 "nbformat": 4,
 "nbformat_minor": 2
}
